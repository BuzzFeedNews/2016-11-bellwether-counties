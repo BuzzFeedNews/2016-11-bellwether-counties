{
 "cells": [
  {
   "cell_type": "markdown",
   "metadata": {},
   "source": [
    "# Bellwether County Analysis\n",
    "\n",
    "For more background [see here](https://github.com/BuzzFeedNews/2016-11-bellwether-counties)."
   ]
  },
  {
   "cell_type": "code",
   "execution_count": 1,
   "metadata": {
    "collapsed": true
   },
   "outputs": [],
   "source": [
    "import pandas as pd\n",
    "from glob import glob"
   ]
  },
  {
   "cell_type": "markdown",
   "metadata": {},
   "source": [
    "## Load CQ data\n",
    "\n",
    "The data files from CQPress contain presidential election results for every county (or comparable geography) in the country."
   ]
  },
  {
   "cell_type": "code",
   "execution_count": 2,
   "metadata": {
    "collapsed": false
   },
   "outputs": [],
   "source": [
    "csvs = glob(\"../data/cq-data/*/*.csv\")"
   ]
  },
  {
   "cell_type": "code",
   "execution_count": 3,
   "metadata": {
    "collapsed": true
   },
   "outputs": [],
   "source": [
    "def parse_csv(file_string):\n",
    "    df = pd.read_csv(\n",
    "        file_string,\n",
    "        skiprows=2,\n",
    "        na_values=[\"AreaType\"]\n",
    "    ).rename(columns={\n",
    "        \"RepVotesTotalPercent\": \"rep_pct\",\n",
    "        \"DemVotesTotalPercent\": \"dem_pct\"\n",
    "    }).dropna(subset=[\"AreaType\", \"rep_pct\"]) # remove counties with no data\n",
    "    df[[\"rep_pct\", \"dem_pct\"]] = df[[\"rep_pct\", \"dem_pct\"]].astype(float)\n",
    "    return df[[\n",
    "        \"State\", \"RaceDate\", \"Area\", \n",
    "        \"rep_pct\", \"dem_pct\"\n",
    "    ]]"
   ]
  },
  {
   "cell_type": "code",
   "execution_count": 4,
   "metadata": {
    "collapsed": false
   },
   "outputs": [],
   "source": [
    "results = pd.concat([ parse_csv(c) for c in csvs ])\\\n",
    "    .sort_values([ \"State\", \"Area\", \"RaceDate\"])\\\n",
    "    .reset_index(drop=True)"
   ]
  },
  {
   "cell_type": "code",
   "execution_count": 5,
   "metadata": {
    "collapsed": false
   },
   "outputs": [
    {
     "data": {
      "text/html": [
       "<div>\n",
       "<table border=\"1\" class=\"dataframe\">\n",
       "  <thead>\n",
       "    <tr style=\"text-align: right;\">\n",
       "      <th></th>\n",
       "      <th>State</th>\n",
       "      <th>RaceDate</th>\n",
       "      <th>Area</th>\n",
       "      <th>rep_pct</th>\n",
       "      <th>dem_pct</th>\n",
       "    </tr>\n",
       "  </thead>\n",
       "  <tbody>\n",
       "    <tr>\n",
       "      <th>0</th>\n",
       "      <td>Alabama</td>\n",
       "      <td>19721107</td>\n",
       "      <td>AUTAUGA</td>\n",
       "      <td>75.17</td>\n",
       "      <td>22.31</td>\n",
       "    </tr>\n",
       "    <tr>\n",
       "      <th>1</th>\n",
       "      <td>Alabama</td>\n",
       "      <td>19761102</td>\n",
       "      <td>AUTAUGA</td>\n",
       "      <td>48.32</td>\n",
       "      <td>49.69</td>\n",
       "    </tr>\n",
       "    <tr>\n",
       "      <th>2</th>\n",
       "      <td>Alabama</td>\n",
       "      <td>19801104</td>\n",
       "      <td>AUTAUGA</td>\n",
       "      <td>56.87</td>\n",
       "      <td>38.82</td>\n",
       "    </tr>\n",
       "    <tr>\n",
       "      <th>3</th>\n",
       "      <td>Alabama</td>\n",
       "      <td>19841106</td>\n",
       "      <td>AUTAUGA</td>\n",
       "      <td>70.07</td>\n",
       "      <td>28.25</td>\n",
       "    </tr>\n",
       "    <tr>\n",
       "      <th>4</th>\n",
       "      <td>Alabama</td>\n",
       "      <td>19881108</td>\n",
       "      <td>AUTAUGA</td>\n",
       "      <td>67.13</td>\n",
       "      <td>31.45</td>\n",
       "    </tr>\n",
       "  </tbody>\n",
       "</table>\n",
       "</div>"
      ],
      "text/plain": [
       "     State  RaceDate     Area  rep_pct  dem_pct\n",
       "0  Alabama  19721107  AUTAUGA    75.17    22.31\n",
       "1  Alabama  19761102  AUTAUGA    48.32    49.69\n",
       "2  Alabama  19801104  AUTAUGA    56.87    38.82\n",
       "3  Alabama  19841106  AUTAUGA    70.07    28.25\n",
       "4  Alabama  19881108  AUTAUGA    67.13    31.45"
      ]
     },
     "execution_count": 5,
     "metadata": {},
     "output_type": "execute_result"
    }
   ],
   "source": [
    "results.head()"
   ]
  },
  {
   "cell_type": "code",
   "execution_count": 6,
   "metadata": {
    "collapsed": true
   },
   "outputs": [],
   "source": [
    "results[\"year\"] = results[\"RaceDate\"].str.slice(0, 4).astype(int)"
   ]
  },
  {
   "cell_type": "code",
   "execution_count": 7,
   "metadata": {
    "collapsed": true
   },
   "outputs": [],
   "source": [
    "ALL_YEARS = list(range(1972, 2016, 4))"
   ]
  },
  {
   "cell_type": "markdown",
   "metadata": {},
   "source": [
    "## Load national results"
   ]
  },
  {
   "cell_type": "code",
   "execution_count": 8,
   "metadata": {
    "collapsed": false
   },
   "outputs": [],
   "source": [
    "national_results = pd.read_csv(\n",
    "    \"../data/election_results.csv\"\n",
    ").rename(columns={\n",
    "    \"PctRepublican\": \"pct_rep\",\n",
    "    \"PctDemocrat\": \"pct_dem\"\n",
    "})"
   ]
  },
  {
   "cell_type": "code",
   "execution_count": 9,
   "metadata": {
    "collapsed": false
   },
   "outputs": [],
   "source": [
    "national_results[\"year\"] = national_results[\"RaceDate\"].astype(str).str.slice(0, 4).astype(int)"
   ]
  },
  {
   "cell_type": "code",
   "execution_count": 10,
   "metadata": {
    "collapsed": false
   },
   "outputs": [
    {
     "data": {
      "text/html": [
       "<div>\n",
       "<table border=\"1\" class=\"dataframe\">\n",
       "  <thead>\n",
       "    <tr style=\"text-align: right;\">\n",
       "      <th></th>\n",
       "      <th>RaceDate</th>\n",
       "      <th>pct_rep</th>\n",
       "      <th>pct_dem</th>\n",
       "      <th>year</th>\n",
       "    </tr>\n",
       "  </thead>\n",
       "  <tbody>\n",
       "    <tr>\n",
       "      <th>0</th>\n",
       "      <td>19721107</td>\n",
       "      <td>60.7</td>\n",
       "      <td>37.5</td>\n",
       "      <td>1972</td>\n",
       "    </tr>\n",
       "    <tr>\n",
       "      <th>1</th>\n",
       "      <td>19761102</td>\n",
       "      <td>48.0</td>\n",
       "      <td>50.1</td>\n",
       "      <td>1976</td>\n",
       "    </tr>\n",
       "    <tr>\n",
       "      <th>2</th>\n",
       "      <td>19801104</td>\n",
       "      <td>50.7</td>\n",
       "      <td>41.0</td>\n",
       "      <td>1980</td>\n",
       "    </tr>\n",
       "    <tr>\n",
       "      <th>3</th>\n",
       "      <td>19841106</td>\n",
       "      <td>58.8</td>\n",
       "      <td>40.6</td>\n",
       "      <td>1984</td>\n",
       "    </tr>\n",
       "    <tr>\n",
       "      <th>4</th>\n",
       "      <td>19881108</td>\n",
       "      <td>53.4</td>\n",
       "      <td>45.6</td>\n",
       "      <td>1988</td>\n",
       "    </tr>\n",
       "    <tr>\n",
       "      <th>5</th>\n",
       "      <td>19921103</td>\n",
       "      <td>37.4</td>\n",
       "      <td>43.0</td>\n",
       "      <td>1992</td>\n",
       "    </tr>\n",
       "    <tr>\n",
       "      <th>6</th>\n",
       "      <td>19961105</td>\n",
       "      <td>40.7</td>\n",
       "      <td>49.2</td>\n",
       "      <td>1996</td>\n",
       "    </tr>\n",
       "    <tr>\n",
       "      <th>7</th>\n",
       "      <td>20001107</td>\n",
       "      <td>47.9</td>\n",
       "      <td>48.4</td>\n",
       "      <td>2000</td>\n",
       "    </tr>\n",
       "    <tr>\n",
       "      <th>8</th>\n",
       "      <td>20041102</td>\n",
       "      <td>50.7</td>\n",
       "      <td>48.3</td>\n",
       "      <td>2004</td>\n",
       "    </tr>\n",
       "    <tr>\n",
       "      <th>9</th>\n",
       "      <td>20081104</td>\n",
       "      <td>45.7</td>\n",
       "      <td>52.9</td>\n",
       "      <td>2008</td>\n",
       "    </tr>\n",
       "    <tr>\n",
       "      <th>10</th>\n",
       "      <td>20121106</td>\n",
       "      <td>47.2</td>\n",
       "      <td>51.1</td>\n",
       "      <td>2012</td>\n",
       "    </tr>\n",
       "  </tbody>\n",
       "</table>\n",
       "</div>"
      ],
      "text/plain": [
       "    RaceDate  pct_rep  pct_dem  year\n",
       "0   19721107     60.7     37.5  1972\n",
       "1   19761102     48.0     50.1  1976\n",
       "2   19801104     50.7     41.0  1980\n",
       "3   19841106     58.8     40.6  1984\n",
       "4   19881108     53.4     45.6  1988\n",
       "5   19921103     37.4     43.0  1992\n",
       "6   19961105     40.7     49.2  1996\n",
       "7   20001107     47.9     48.4  2000\n",
       "8   20041102     50.7     48.3  2004\n",
       "9   20081104     45.7     52.9  2008\n",
       "10  20121106     47.2     51.1  2012"
      ]
     },
     "execution_count": 10,
     "metadata": {},
     "output_type": "execute_result"
    }
   ],
   "source": [
    "national_results"
   ]
  },
  {
   "cell_type": "markdown",
   "metadata": {
    "collapsed": false
   },
   "source": [
    "## Calculate max miss for each county\n",
    "\n",
    "For each election, calculate the percentage spread between the Republican and Democratic candidates for each county (and nationally). Then, for each county and election, find the biggest “miss” — calculated as the difference between the county spread and the national spread —  over the previous four presidential elections."
   ]
  },
  {
   "cell_type": "code",
   "execution_count": 11,
   "metadata": {
    "collapsed": true
   },
   "outputs": [],
   "source": [
    "results[\"rep_dem_spread\"] = results[\"rep_pct\"] - results[\"dem_pct\"]"
   ]
  },
  {
   "cell_type": "code",
   "execution_count": 12,
   "metadata": {
    "collapsed": false
   },
   "outputs": [],
   "source": [
    "national_results[\"rep_dem_spread\"] = national_results[\"pct_rep\"] - national_results[\"pct_dem\"]"
   ]
  },
  {
   "cell_type": "code",
   "execution_count": 13,
   "metadata": {
    "collapsed": false
   },
   "outputs": [],
   "source": [
    "results[\"national_diff\"] = pd.merge(\n",
    "    results,\n",
    "    national_results,\n",
    "    on=\"year\",\n",
    "    how=\"left\",\n",
    "    suffixes=[\".local\", \".national\"]\n",
    ").pipe(lambda x: x[\"rep_dem_spread.local\"] - x[\"rep_dem_spread.national\"])"
   ]
  },
  {
   "cell_type": "code",
   "execution_count": 14,
   "metadata": {
    "collapsed": false
   },
   "outputs": [
    {
     "data": {
      "text/html": [
       "<div>\n",
       "<table border=\"1\" class=\"dataframe\">\n",
       "  <thead>\n",
       "    <tr style=\"text-align: right;\">\n",
       "      <th></th>\n",
       "      <th>State</th>\n",
       "      <th>RaceDate</th>\n",
       "      <th>Area</th>\n",
       "      <th>rep_pct</th>\n",
       "      <th>dem_pct</th>\n",
       "      <th>year</th>\n",
       "      <th>rep_dem_spread</th>\n",
       "      <th>national_diff</th>\n",
       "    </tr>\n",
       "  </thead>\n",
       "  <tbody>\n",
       "    <tr>\n",
       "      <th>0</th>\n",
       "      <td>Alabama</td>\n",
       "      <td>19721107</td>\n",
       "      <td>AUTAUGA</td>\n",
       "      <td>75.17</td>\n",
       "      <td>22.31</td>\n",
       "      <td>1972</td>\n",
       "      <td>52.86</td>\n",
       "      <td>29.66</td>\n",
       "    </tr>\n",
       "    <tr>\n",
       "      <th>1</th>\n",
       "      <td>Alabama</td>\n",
       "      <td>19761102</td>\n",
       "      <td>AUTAUGA</td>\n",
       "      <td>48.32</td>\n",
       "      <td>49.69</td>\n",
       "      <td>1976</td>\n",
       "      <td>-1.37</td>\n",
       "      <td>0.73</td>\n",
       "    </tr>\n",
       "    <tr>\n",
       "      <th>2</th>\n",
       "      <td>Alabama</td>\n",
       "      <td>19801104</td>\n",
       "      <td>AUTAUGA</td>\n",
       "      <td>56.87</td>\n",
       "      <td>38.82</td>\n",
       "      <td>1980</td>\n",
       "      <td>18.05</td>\n",
       "      <td>8.35</td>\n",
       "    </tr>\n",
       "    <tr>\n",
       "      <th>3</th>\n",
       "      <td>Alabama</td>\n",
       "      <td>19841106</td>\n",
       "      <td>AUTAUGA</td>\n",
       "      <td>70.07</td>\n",
       "      <td>28.25</td>\n",
       "      <td>1984</td>\n",
       "      <td>41.82</td>\n",
       "      <td>23.62</td>\n",
       "    </tr>\n",
       "    <tr>\n",
       "      <th>4</th>\n",
       "      <td>Alabama</td>\n",
       "      <td>19881108</td>\n",
       "      <td>AUTAUGA</td>\n",
       "      <td>67.13</td>\n",
       "      <td>31.45</td>\n",
       "      <td>1988</td>\n",
       "      <td>35.68</td>\n",
       "      <td>27.88</td>\n",
       "    </tr>\n",
       "  </tbody>\n",
       "</table>\n",
       "</div>"
      ],
      "text/plain": [
       "     State  RaceDate     Area  rep_pct  dem_pct  year  rep_dem_spread  \\\n",
       "0  Alabama  19721107  AUTAUGA    75.17    22.31  1972           52.86   \n",
       "1  Alabama  19761102  AUTAUGA    48.32    49.69  1976           -1.37   \n",
       "2  Alabama  19801104  AUTAUGA    56.87    38.82  1980           18.05   \n",
       "3  Alabama  19841106  AUTAUGA    70.07    28.25  1984           41.82   \n",
       "4  Alabama  19881108  AUTAUGA    67.13    31.45  1988           35.68   \n",
       "\n",
       "   national_diff  \n",
       "0          29.66  \n",
       "1           0.73  \n",
       "2           8.35  \n",
       "3          23.62  \n",
       "4          27.88  "
      ]
     },
     "execution_count": 14,
     "metadata": {},
     "output_type": "execute_result"
    }
   ],
   "source": [
    "results.head()"
   ]
  },
  {
   "cell_type": "code",
   "execution_count": 15,
   "metadata": {
    "collapsed": true
   },
   "outputs": [],
   "source": [
    "def get_max_miss_four(area):\n",
    "    max_miss = area[\"national_diff\"].abs().rolling(window=4).max()\n",
    "    max_miss.index = area[\"year\"]\n",
    "    return max_miss"
   ]
  },
  {
   "cell_type": "code",
   "execution_count": 16,
   "metadata": {
    "collapsed": false
   },
   "outputs": [],
   "source": [
    "max_misses = results.groupby([ \"State\", \"Area\" ])\\\n",
    "    .apply(get_max_miss_four)\\\n",
    "    .unstack()\\\n",
    "    .pipe(lambda x: x[x.columns[3:]])"
   ]
  },
  {
   "cell_type": "code",
   "execution_count": 17,
   "metadata": {
    "collapsed": false
   },
   "outputs": [
    {
     "data": {
      "text/html": [
       "<div>\n",
       "<table border=\"1\" class=\"dataframe\">\n",
       "  <thead>\n",
       "    <tr style=\"text-align: right;\">\n",
       "      <th></th>\n",
       "      <th>year</th>\n",
       "      <th>1984</th>\n",
       "      <th>1988</th>\n",
       "      <th>1992</th>\n",
       "      <th>1996</th>\n",
       "      <th>2000</th>\n",
       "      <th>2004</th>\n",
       "      <th>2008</th>\n",
       "      <th>2012</th>\n",
       "    </tr>\n",
       "    <tr>\n",
       "      <th>State</th>\n",
       "      <th>Area</th>\n",
       "      <th></th>\n",
       "      <th></th>\n",
       "      <th></th>\n",
       "      <th></th>\n",
       "      <th></th>\n",
       "      <th></th>\n",
       "      <th></th>\n",
       "      <th></th>\n",
       "    </tr>\n",
       "  </thead>\n",
       "  <tbody>\n",
       "    <tr>\n",
       "      <th rowspan=\"5\" valign=\"top\">Alabama</th>\n",
       "      <th>AUTAUGA</th>\n",
       "      <td>29.66</td>\n",
       "      <td>27.88</td>\n",
       "      <td>30.60</td>\n",
       "      <td>37.64</td>\n",
       "      <td>41.47</td>\n",
       "      <td>49.58</td>\n",
       "      <td>55.04</td>\n",
       "      <td>55.04</td>\n",
       "    </tr>\n",
       "    <tr>\n",
       "      <th>BALDWIN</th>\n",
       "      <td>43.09</td>\n",
       "      <td>39.01</td>\n",
       "      <td>39.01</td>\n",
       "      <td>43.97</td>\n",
       "      <td>48.09</td>\n",
       "      <td>51.52</td>\n",
       "      <td>58.65</td>\n",
       "      <td>59.57</td>\n",
       "    </tr>\n",
       "    <tr>\n",
       "      <th>BARBOUR</th>\n",
       "      <td>21.46</td>\n",
       "      <td>12.89</td>\n",
       "      <td>12.89</td>\n",
       "      <td>9.65</td>\n",
       "      <td>7.69</td>\n",
       "      <td>7.69</td>\n",
       "      <td>8.65</td>\n",
       "      <td>8.65</td>\n",
       "    </tr>\n",
       "    <tr>\n",
       "      <th>BIBB</th>\n",
       "      <td>35.54</td>\n",
       "      <td>26.04</td>\n",
       "      <td>20.48</td>\n",
       "      <td>12.66</td>\n",
       "      <td>22.51</td>\n",
       "      <td>42.11</td>\n",
       "      <td>53.04</td>\n",
       "      <td>53.04</td>\n",
       "    </tr>\n",
       "    <tr>\n",
       "      <th>BLOUNT</th>\n",
       "      <td>36.80</td>\n",
       "      <td>23.71</td>\n",
       "      <td>26.49</td>\n",
       "      <td>34.57</td>\n",
       "      <td>43.29</td>\n",
       "      <td>60.14</td>\n",
       "      <td>76.71</td>\n",
       "      <td>77.83</td>\n",
       "    </tr>\n",
       "  </tbody>\n",
       "</table>\n",
       "</div>"
      ],
      "text/plain": [
       "year              1984   1988   1992   1996   2000   2004   2008   2012\n",
       "State   Area                                                           \n",
       "Alabama AUTAUGA  29.66  27.88  30.60  37.64  41.47  49.58  55.04  55.04\n",
       "        BALDWIN  43.09  39.01  39.01  43.97  48.09  51.52  58.65  59.57\n",
       "        BARBOUR  21.46  12.89  12.89   9.65   7.69   7.69   8.65   8.65\n",
       "        BIBB     35.54  26.04  20.48  12.66  22.51  42.11  53.04  53.04\n",
       "        BLOUNT   36.80  23.71  26.49  34.57  43.29  60.14  76.71  77.83"
      ]
     },
     "execution_count": 17,
     "metadata": {},
     "output_type": "execute_result"
    }
   ],
   "source": [
    "max_misses.head()"
   ]
  },
  {
   "cell_type": "markdown",
   "metadata": {},
   "source": [
    "## Calculate historical accuracy\n",
    "\n",
    "For each election, calculate the average Republican-Democrat spread of the five counties with the smallest maximum miss in the four *prior* presidential elections. Compare that number to the overall national Republican-Democrat spread."
   ]
  },
  {
   "cell_type": "code",
   "execution_count": 18,
   "metadata": {
    "collapsed": true
   },
   "outputs": [],
   "source": [
    "def calc_historical_accuracy(year):\n",
    "    closest = max_misses[year - 4].nsmallest(5)\n",
    "    closest_prev_results = results[\n",
    "        results[\"year\"] == year\n",
    "    ].set_index([ \"State\", \"Area\" ]).loc[closest.index]\n",
    "    mean_error = closest_prev_results[\"national_diff\"].mean()\n",
    "    return mean_error"
   ]
  },
  {
   "cell_type": "code",
   "execution_count": 19,
   "metadata": {
    "collapsed": false
   },
   "outputs": [
    {
     "name": "stdout",
     "output_type": "stream",
     "text": [
      "1988: 0.592\n",
      "1992: -0.318\n",
      "1996: 0.272\n",
      "2000: 5.654\n",
      "2004: 2.236\n",
      "2008: 0.066\n",
      "2012: -0.768\n"
     ]
    }
   ],
   "source": [
    "for year in ALL_YEARS[4:]:\n",
    "    acc = calc_historical_accuracy(year)\n",
    "    print(\"{0}: {1:.3f}\".format(year, acc))"
   ]
  },
  {
   "cell_type": "markdown",
   "metadata": {},
   "source": [
    "The model struggled a lot in 2000 and a little in 2004, but has come within one percentage point of the national results in five of the past seven elections. Based on this analysis, the five counties to watch in the 2016 election are:"
   ]
  },
  {
   "cell_type": "code",
   "execution_count": 20,
   "metadata": {
    "collapsed": false
   },
   "outputs": [
    {
     "data": {
      "text/plain": [
       "State           Area     \n",
       "Minnesota       DAKOTA       1.70\n",
       "Michigan        MACOMB       1.92\n",
       "North Carolina  GRANVILLE    1.93\n",
       "Michigan        CALHOUN      2.30\n",
       "Iowa            CEDAR        2.44\n",
       "Name: 2012, dtype: float64"
      ]
     },
     "execution_count": 20,
     "metadata": {},
     "output_type": "execute_result"
    }
   ],
   "source": [
    "max_misses[2012].nsmallest(5)"
   ]
  },
  {
   "cell_type": "markdown",
   "metadata": {
    "collapsed": true
   },
   "source": [
    "---\n",
    "\n",
    "---\n",
    "\n",
    "---"
   ]
  }
 ],
 "metadata": {
  "kernelspec": {
   "display_name": "Python 3",
   "language": "python",
   "name": "python3"
  },
  "language_info": {
   "codemirror_mode": {
    "name": "ipython",
    "version": 3
   },
   "file_extension": ".py",
   "mimetype": "text/x-python",
   "name": "python",
   "nbconvert_exporter": "python",
   "pygments_lexer": "ipython3",
   "version": "3.5.0"
  }
 },
 "nbformat": 4,
 "nbformat_minor": 0
}
